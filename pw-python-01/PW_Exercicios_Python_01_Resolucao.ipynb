{
 "cells": [
  {
   "cell_type": "markdown",
   "metadata": {},
   "source": [
    "# Ficha 01 de Exercícios de Python\n",
    "\n",
    "A ficha deve ser resolvida e [submetida](https://secure.grupolusofona.pt/ulht/moodle/mod/assign/view.php?id=389735) antes da sua aula prática da semana de 19.4 a 23.4.\n",
    "\n",
    "Trabalhando com Jupyter Notebook: \n",
    "1. Descarregue o [Python](https://www.python.org/downloads/) e instale o Python versão 3 \n",
    "2. Abra uma janela de comando (cmd) e execute o comando para instalar o Jupyter: `python -m pip install jupyter` \n",
    "3. escolha uma pasta onde queira trabalhar, e grave nessa pasta este ficheiro PW_Exercicios_Python_01.ipynb\n",
    "4. na linha de comando, vá até a essa pasta e execute o comando: `jupyter notebook`\n",
    "5. O browser será aberto automáticamente, aparecendo informação da pasta e a ficha de exercícios, que clicando será aberta\n",
    "6. Edite as respostas diretamente nas células vazias. Para executar a célula, prima `Shift + Enter`\n",
    "\n",
    "Se tiver dúvidas, consulte os [slides da aula](https://secure.grupolusofona.pt/ulht/moodle/pluginfile.php/800079/course/section/398731/PW_Python_01.pptx) que têm toda a matéria necessária para a resolução desta ficha."
   ]
  },
  {
   "cell_type": "markdown",
   "metadata": {},
   "source": [
    "# 1. Métodos das Strings\n",
    "\n",
    "Em Python, cada tipo de variável é uma classe tem um conjunto de métodos (funções) disponiveis. Pode listar os métodos existentes do tipo string, através da instrução `dir(str)`.\n",
    "\n",
    "\n",
    "A função `help()`  mostra, para uma determinado tipo, a descrição de todos os métodos disponíveis. Execute help(str) para ver a descrição de todos os métodos. Alternativamente, para um método específico, pode inquirir sobre o seu funcionamento, por exemplo, help(str.capitalise). "
   ]
  },
  {
   "cell_type": "markdown",
   "metadata": {},
   "source": [
    "0. Para os métodos em baixo leia a descrição de cada um dos métodos e experimente-o, escrevendo um exemplo de utilização simples:\n",
    "`capitalize`, `count`, `find`, `index`, `isalnum`, `isalpha`, `isdecimal`, `isdigit`, `join`, `lower`, `replace`, `split`"
   ]
  },
  {
   "cell_type": "code",
   "execution_count": 17,
   "metadata": {},
   "outputs": [
    {
     "name": "stdout",
     "output_type": "stream",
     "text": [
      "Help on method_descriptor:\n",
      "\n",
      "title(self, /)\n",
      "    Return a version of the string where each word is titlecased.\n",
      "    \n",
      "    More specifically, words start with uppercased characters and all remaining\n",
      "    cased characters have lower case.\n",
      "\n"
     ]
    }
   ],
   "source": [
    "help(str.title)"
   ]
  },
  {
   "cell_type": "code",
   "execution_count": 1,
   "metadata": {},
   "outputs": [
    {
     "name": "stdout",
     "output_type": "stream",
     "text": [
      "Exercícios Introdutorios Ao Python\n"
     ]
    }
   ],
   "source": [
    "# title\n",
    "s = \"exercícios introdutorios ao python\"\n",
    "\n",
    "titulo = s.title()\n",
    "\n",
    "print(titulo)"
   ]
  },
  {
   "cell_type": "code",
   "execution_count": 20,
   "metadata": {},
   "outputs": [
    {
     "name": "stdout",
     "output_type": "stream",
     "text": [
      "Exercícios introdutorios ao python\n"
     ]
    }
   ],
   "source": [
    "#capitalize\n",
    "\n",
    "s = \"exercícios introdutorios ao python\"\n",
    "frase = s.capitalize()\n",
    "print(frase)"
   ]
  },
  {
   "cell_type": "code",
   "execution_count": 18,
   "metadata": {},
   "outputs": [
    {
     "data": {
      "text/plain": [
       "['Manuel', 'Sousa']"
      ]
     },
     "execution_count": 18,
     "metadata": {},
     "output_type": "execute_result"
    }
   ],
   "source": [
    "#split\n",
    "s = \"Manuel Sousa\"\n",
    "\n",
    "s.split()"
   ]
  },
  {
   "cell_type": "code",
   "execution_count": null,
   "metadata": {
    "scrolled": true
   },
   "outputs": [],
   "source": [
    "#join\n",
    "\n"
   ]
  },
  {
   "cell_type": "code",
   "execution_count": 4,
   "metadata": {},
   "outputs": [
    {
     "data": {
      "text/plain": [
       "'manuel.sousa'"
      ]
     },
     "execution_count": 4,
     "metadata": {},
     "output_type": "execute_result"
    }
   ],
   "source": [
    "#replace\n",
    "\n",
    "s = \"Manuel Sousa\"\n",
    "\n",
    "nome = s.lower().replace(\" \", \".\")\n",
    "\n",
    "nome"
   ]
  },
  {
   "cell_type": "code",
   "execution_count": 5,
   "metadata": {},
   "outputs": [
    {
     "data": {
      "text/plain": [
       "5"
      ]
     },
     "execution_count": 5,
     "metadata": {},
     "output_type": "execute_result"
    }
   ],
   "source": [
    "#count\n",
    "p = \"abracadabra\"\n",
    "\n",
    "p.count('a')"
   ]
  },
  {
   "cell_type": "code",
   "execution_count": 6,
   "metadata": {},
   "outputs": [
    {
     "data": {
      "text/plain": [
       "2"
      ]
     },
     "execution_count": 6,
     "metadata": {},
     "output_type": "execute_result"
    }
   ],
   "source": [
    "#find\n",
    "p = \"abracadabra\"\n",
    "\n",
    "p.find(\"r\")"
   ]
  },
  {
   "cell_type": "code",
   "execution_count": 7,
   "metadata": {},
   "outputs": [
    {
     "data": {
      "text/plain": [
       "-1"
      ]
     },
     "execution_count": 7,
     "metadata": {},
     "output_type": "execute_result"
    }
   ],
   "source": [
    "p = \"abracadabra\"\n",
    "p.find(\"z\")"
   ]
  },
  {
   "cell_type": "code",
   "execution_count": 9,
   "metadata": {},
   "outputs": [
    {
     "data": {
      "text/plain": [
       "2"
      ]
     },
     "execution_count": 9,
     "metadata": {},
     "output_type": "execute_result"
    }
   ],
   "source": [
    "#index \n",
    "\n",
    "p.index(\"r\")"
   ]
  },
  {
   "cell_type": "code",
   "execution_count": 10,
   "metadata": {},
   "outputs": [],
   "source": [
    "#isalnum\n",
    "\n"
   ]
  },
  {
   "cell_type": "code",
   "execution_count": 11,
   "metadata": {},
   "outputs": [
    {
     "data": {
      "text/plain": [
       "True"
      ]
     },
     "execution_count": 11,
     "metadata": {},
     "output_type": "execute_result"
    }
   ],
   "source": [
    "#isalpha\n",
    "nome = \"Manuel\"\n",
    "\n",
    "nome.isalpha()"
   ]
  },
  {
   "cell_type": "code",
   "execution_count": 12,
   "metadata": {},
   "outputs": [],
   "source": [
    "#isdigit\n",
    "\n",
    "numero = \"1234\""
   ]
  },
  {
   "cell_type": "code",
   "execution_count": 13,
   "metadata": {},
   "outputs": [
    {
     "data": {
      "text/plain": [
       "True"
      ]
     },
     "execution_count": 13,
     "metadata": {},
     "output_type": "execute_result"
    }
   ],
   "source": [
    "numero.isdigit()"
   ]
  },
  {
   "cell_type": "code",
   "execution_count": 14,
   "metadata": {},
   "outputs": [
    {
     "data": {
      "text/plain": [
       "4"
      ]
     },
     "execution_count": 14,
     "metadata": {},
     "output_type": "execute_result"
    }
   ],
   "source": [
    "len(numero)"
   ]
  },
  {
   "cell_type": "markdown",
   "metadata": {},
   "source": [
    "# 2. Onomatopeia\n",
    "\n",
    "Defina, usando operadores sobre strings (concatenação `+` e repetição `*`), uma string com a seguinte onomatopeia: \n",
    "\n",
    "```\n",
    "piiiiii \n",
    "pipiiiiiiiiiii\n",
    "buuuuuuummmmm\n",
    "AAAAaaaaaaggghhhhhhhh \n",
    "tinoni-tinoni-tinoni\n",
    "```\n",
    "\n",
    "exemplo de onomatopeia:"
   ]
  },
  {
   "cell_type": "code",
   "execution_count": 24,
   "metadata": {},
   "outputs": [
    {
     "data": {
      "text/plain": [
       "'ahahah!!!!!'"
      ]
     },
     "execution_count": 24,
     "metadata": {},
     "output_type": "execute_result"
    }
   ],
   "source": [
    "'ah' * 3 + '!' * 5"
   ]
  },
  {
   "cell_type": "code",
   "execution_count": null,
   "metadata": {},
   "outputs": [],
   "source": [
    "\n",
    "\n"
   ]
  },
  {
   "cell_type": "markdown",
   "metadata": {},
   "source": [
    "# 3. Constrói email de nome\n",
    "\n",
    "Escreva um programa que pede ao utilizador para inserir um nome completo, com vários apelidos,  e construa um email. Exemplo:\n",
    "\n",
    "```\n",
    "Insira um nome completo: Manuel Sousa Silva\n",
    "Email: manuel.sousa.silva@ulusofona.pt\n",
    "```\n",
    "\n",
    "Para tal recorra aos métodos das strings tais como split ou replace, lower e concatenação."
   ]
  },
  {
   "cell_type": "code",
   "execution_count": 21,
   "metadata": {
    "scrolled": false
   },
   "outputs": [
    {
     "name": "stdout",
     "output_type": "stream",
     "text": [
      "Insira um nome completo: Manuel Sousa Silva \n",
      "Email: manuel.sousa.silva.@ulusofona.pt\n"
     ]
    }
   ],
   "source": [
    "nome = input(\"Insira um nome completo: \")\n",
    "email = nome.lower().replace(' ','.') + '@ulusofona.pt'\n",
    "print(f\"Email: {email}\")"
   ]
  },
  {
   "cell_type": "markdown",
   "metadata": {},
   "source": [
    "# 4. Pede código de 4 digitos insistentemente até conseguir\n",
    "\n",
    "Escreva um programa que pede ao utilizador para inserir um código numérico de 4 dígitos. Enquanto não o fizer, volte a pedir:\n",
    "\n",
    "```\n",
    "Insira um codigo numerico de 4 digitos: 12345\n",
    "Insira um codigo numerico de 4 digitos: 1a2c\n",
    "Insira um codigo numerico de 4 digitos: 1234\n",
    "Obrigado\n",
    "```\n",
    "\n",
    "Para tal recorra por exemplo ao método das strings isdigit e à função len."
   ]
  },
  {
   "cell_type": "code",
   "execution_count": 23,
   "metadata": {
    "scrolled": false
   },
   "outputs": [
    {
     "name": "stdout",
     "output_type": "stream",
     "text": [
      "Insira um codigo numerico de 4 digitos: 12345\n",
      "Insira um codigo numerico de 4 digitos: 123\n",
      "Insira um codigo numerico de 4 digitos: 1a2c\n",
      "Insira um codigo numerico de 4 digitos: 2134\n",
      "Obrigado\n"
     ]
    }
   ],
   "source": [
    "while True:\n",
    "    codigo = input(\"Insira um codigo numerico de 4 digitos: \")\n",
    "    if len(codigo) == 4 and codigo.isdigit():\n",
    "        break\n",
    "print(\"Obrigado\")"
   ]
  },
  {
   "cell_type": "markdown",
   "metadata": {},
   "source": [
    "# 5. pergunte uma adivinha \n",
    "* Pergunte uma adivinha: \"Qual é o animal que anda com uma pata?\"\n",
    "* enquanto não adivinhar, volte a perguntar.\n",
    "* se acertar dá os parabéns e termina.\n",
    "* se escrever \"desisto\" o programa termina e imprime uma mensagem, dizendo a resposta (é o 🦆). Use outros emijis se quiser http://getemoji.com/, fazendo copy-paste diretamente.\n",
    "\n",
    "Nota: dentro de \" \" podemos escrever ' '."
   ]
  },
  {
   "cell_type": "code",
   "execution_count": 27,
   "metadata": {},
   "outputs": [
    {
     "name": "stdout",
     "output_type": "stream",
     "text": [
      "Qual é o animal que anda com uma pata (ou 'desisto')?pato\n",
      "Parabéns\n"
     ]
    }
   ],
   "source": [
    "resposta = input(\"Qual é o animal que anda com uma pata (ou 'desisto')?\")\n",
    "while not (resposta.lower() == \"pato\" or resposta == \"desisto\"):\n",
    "    print(\"Resposta errada\")\n",
    "    resposta = input(\"Qual é o animal que anda com uma pata (ou 'desisto')?\")\n",
    "    \n",
    "if (resposta == \"pato\"):\n",
    "    print(\"Parabéns\")\n",
    "else: \n",
    "    print(\"É o 🦆!!\")"
   ]
  },
  {
   "cell_type": "markdown",
   "metadata": {},
   "source": [
    "# 6. Tabuada\n",
    "\n",
    "Peça ao utilizador um inteiro entre 1 e 10. Imprima a tabuada desse número devidamente alinhada.\n",
    "\n",
    "Exemplo de utilização:\n",
    "\n",
    "```\n",
    "Insira um inteiro entre 1 e 10: 11\n",
    "Insira um inteiro entre 1 e 10: ola\n",
    "Insira um inteiro entre 1 e 10: 2\n",
    "2 x  1 =   2\n",
    "2 x  2 =   4\n",
    "2 x  3 =   6\n",
    "2 x  4 =   8\n",
    "2 x  5 =  10\n",
    "2 x  6 =  12\n",
    "2 x  7 =  14\n",
    "2 x  8 =  16\n",
    "2 x  9 =  18\n",
    "2 x 10 =  20\n",
    "```"
   ]
  },
  {
   "cell_type": "code",
   "execution_count": 8,
   "metadata": {},
   "outputs": [
    {
     "name": "stdout",
     "output_type": "stream",
     "text": [
      "Insira um inteiro entre 1 e 10: 11\n",
      "Insira um inteiro entre 1 e 10: ola\n",
      "Insira um inteiro entre 1 e 10: 2\n",
      "2 x  1 =   2\n",
      "2 x  2 =   4\n",
      "2 x  3 =   6\n",
      "2 x  4 =   8\n",
      "2 x  5 =  10\n",
      "2 x  6 =  12\n",
      "2 x  7 =  14\n",
      "2 x  8 =  16\n",
      "2 x  9 =  18\n",
      "2 x 10 =  20\n"
     ]
    }
   ],
   "source": [
    "n = 0\n",
    "\n",
    "while not 1 <= n <= 10: \n",
    "    try:\n",
    "        n = int(input(\"Insira um inteiro entre 1 e 10: \"))\n",
    "    except:\n",
    "        pass\n",
    "    \n",
    "for i in range(1, 11):\n",
    "    print(f\"{n} x {i:2} = {n*i:3}\")"
   ]
  },
  {
   "cell_type": "markdown",
   "metadata": {},
   "source": [
    "# 7. Multibanco\n",
    "\n",
    "Elabore um programa em Python que simula um multibanco:\n",
    "* O programa tem um código de acesso 1234, armazenado numa variável.\n",
    "* O utilizador tem 3 tentativas para acertar.\n",
    "* Caso não acerte, deve dizer “código não aceite”.\n",
    "* Caso acerte numa das tentativas, deve dizer “código aceite” e o programa deverá terminar.\n",
    "* Caso esgote as 3 tentativas, deve dizer “número de tentativas expiradas”.\n",
    "\n",
    "Utilize um ciclo for empregando break else e continue se conseguir."
   ]
  },
  {
   "cell_type": "code",
   "execution_count": 5,
   "metadata": {},
   "outputs": [
    {
     "name": "stdout",
     "output_type": "stream",
     "text": [
      "Insira o seu código secreto: 123\n",
      "Código errado\n",
      "Insira o seu código secreto: 1234\n",
      "Código aceite\n"
     ]
    }
   ],
   "source": [
    "meu_codigo_secreto = \"1234\"\n",
    "tentativas = 3\n",
    "\n",
    "while tentativas > 0:  \n",
    "\tcodigo_inserido = input('Insira o seu código secreto: ')\n",
    "\tif codigo_inserido != meu_codigo_secreto: \n",
    "\t    print('Código errado')\n",
    "\t    tentativas -= 1\n",
    "\t    continue\n",
    "\tprint('Código aceite') \n",
    "\tbreak \n",
    "else: \n",
    "\tprint('Terminaram as suas tentativas') "
   ]
  },
  {
   "cell_type": "markdown",
   "metadata": {},
   "source": [
    "# 8. Notas\n",
    "\n",
    "Escreva um programa que pede ao utilizador para inserir notas de testes, entre 0 e 20:\n",
    "* A quantidade de números é desconhecida à partida. \n",
    "* A leitura termina quando for introduzido o valor -1. \n",
    "* Se a nota inserida for inválida (fora do intervalo, ou não seja numérica), imprima um aviso. Recorra a try / except para se proteger de valores não numéricos.\n",
    "* Utilize onde possível as instruções break e continue. \n",
    "\n",
    "Imprima no ecrã:\n",
    "- A quantidade de notas válidas inseridas\n",
    "- A média das notas inseridas\n",
    "- A melhor nota\n",
    "\n",
    "\n",
    "Exemplo de utilização:\n",
    "```\n",
    "Insira uma nota entre 0 e 20 (-1 para terminar): 12\n",
    "Insira uma nota entre 0 e 20 (-1 para terminar): 16\n",
    "Insira uma nota entre 0 e 20 (-1 para terminar): ola\n",
    "Nota inválida. Não será tomada em consideração\n",
    "Insira uma nota entre 0 e 20 (-1 para terminar): 28\n",
    "Nota inválida. Não será tomada em consideração\n",
    "Insira uma nota entre 0 e 20 (-1 para terminar): 18\n",
    "Insira uma nota entre 0 e 20 (-1 para terminar): 15\n",
    "Insira uma nota entre 0 e 20 (-1 para terminar): -1\n",
    "\n",
    "Quantidade: 4\n",
    "Media: 15.2\n",
    "Maximo: 18\n",
    "``` "
   ]
  },
  {
   "cell_type": "code",
   "execution_count": null,
   "metadata": {},
   "outputs": [],
   "source": [
    "soma = 0\n",
    "maximo = -1\n",
    "quantidade = 0\n",
    "nota = 0\n",
    "\n",
    "while nota != -1:\n",
    "\n",
    "    try:\n",
    "        nota = eval(input(\"Insira uma nota entre 0 e 20 (-1 para terminar): \"))\n",
    "        if nota == -1:\n",
    "            continue\n",
    "            \n",
    "        if not (0 <= nota <= 20):\n",
    "            print(\"Nota inválida. Não será tomada em consideração\")\n",
    "            continue\n",
    "\n",
    "        if nota > maximo:\n",
    "            maximo = nota\n",
    "\n",
    "        soma += nota\n",
    "        quantidade+=1\n",
    "\n",
    "    except:\n",
    "        print(\"Nota inválida. Não será tomada em consideração\")\n",
    "\n",
    "print(f\"\\nQuantidade: {quantidade}\")\n",
    "print(f\"Media: {soma/quantidade:.1f}\")\n",
    "print(f\"Maximo: {maximo}\")\n",
    "print(f\"Minimo: {minimo}\")"
   ]
  },
  {
   "cell_type": "markdown",
   "metadata": {},
   "source": [
    "# 9. Frase\n",
    "\n",
    "Peça ao utilizador para inserir uma frase e indique quantas vogais esta tem (tanto maiúsculas como minúsculas). \n",
    "\n",
    "Sugestões: \n",
    "* Lembre-se que pode iterar pelos carateres de uma string com: `for letra in frase:`. \n",
    "* Utilizar o operador `in`.\n",
    "* Numa string, pode imprimir aspas se definir a frase com plicas: `print(f'A frase \"{frase}\" tem {soma} carateres')`\n",
    "\n",
    "Exemplo de funcionamento:\n",
    "\n",
    "```\n",
    "Insira uma frase: Rega as tuas plantas. Ama as tuas rosas\n",
    "A frase \"Rega as tuas plantas. Ama as tuas rosas\" tem 14 vogais\n",
    "```"
   ]
  },
  {
   "cell_type": "code",
   "execution_count": 3,
   "metadata": {
    "scrolled": true
   },
   "outputs": [
    {
     "name": "stdout",
     "output_type": "stream",
     "text": [
      "Insira uma frase:Rega as tuas plantas. Ama as tuas rosas\n",
      "A frase \"Rega as tuas plantas. Ama as tuas rosas\" tem 14 vogais\n"
     ]
    }
   ],
   "source": [
    "frase = input(\"Insira uma frase: \")\n",
    "soma = 0\n",
    "for letra in frase:\n",
    "    if letra.lower() in 'aeiou':\n",
    "        soma += 1\n",
    "\n",
    "\n",
    "print(f'A frase \"{frase}\" tem {soma} vogais')   "
   ]
  },
  {
   "cell_type": "markdown",
   "metadata": {},
   "source": [
    "# 10. Billboard"
   ]
  },
  {
   "cell_type": "markdown",
   "metadata": {},
   "source": [
    "Crie um programa que recebe uma string `frase` e um dígito `n`. \n",
    "\n",
    "\n",
    "Deverá aplicar uma deslocação de n caracteres para a direita (n>0) ou para a esquerda (n<0) e em seguida apresentar o resultado na consola. Uma deslocação de n caracteres consiste em mover os caracteres todos de uma string para as a posições contíguas e em que os últimos caracteres da string passam para o início.\n",
    "\n",
    "Sugestões:\n",
    "* utilize slices e concatenação de strings\n",
    "* tome atenção ao caso de o número ser maior que o comprimento da string. Nesse caso deverá fazer usar como deslocação n % len(frase), pois a rotação de len(frase) carateres é a própria frase.\n",
    "* Comece por implementar o deslocamento de um caracter para a direita. Poderá depois implementar o deslocamento de n caracteres para a direira repetindo n vezes a deslocação de 1 caracter. Repita o processo para os deslocamentos para a esquerda.\n",
    "\n",
    "\n",
    "Exemplo:\n",
    "\n",
    "```\n",
    "Introduza uma sequencia de carateres: abcdefghi\n",
    "Introduza um inteiro: 3\n",
    "Resultado de deslocação de 3 carateres: ghiabcdef\n",
    "```\n",
    "\n",
    "Outro exemplo:\n",
    "\n",
    "```\n",
    "Introduza uma sequencia de carateres: abcdefghi\n",
    "Introduza um inteiro: -2\n",
    "Resultado de deslocação de 3 carateres: defghiabc\n",
    "```\n"
   ]
  },
  {
   "cell_type": "code",
   "execution_count": 5,
   "metadata": {},
   "outputs": [
    {
     "name": "stdout",
     "output_type": "stream",
     "text": [
      "Introduza uma sequencia de carateres: abcdefg\n",
      "Introduza um inteiro: 3\n",
      "frase com deslocação de 3 carateres: defgabc\n"
     ]
    }
   ],
   "source": [
    "frase = input(\"Introduza uma sequencia de carateres: \")\n",
    "n = int(input('Introduza um inteiro: '))\n",
    "\n",
    "n = n % len(frase)\n",
    "\n",
    "frase_deslocada = frase[n:] + frase[:n] if n > 0 else frase[:n] + frase[n:]\n",
    "\n",
    "print(f'frase com deslocação de {n} carateres: {frase_deslocada}')"
   ]
  },
  {
   "cell_type": "code",
   "execution_count": null,
   "metadata": {},
   "outputs": [],
   "source": []
  }
 ],
 "metadata": {
  "kernelspec": {
   "display_name": "Python 3",
   "language": "python",
   "name": "python3"
  },
  "language_info": {
   "codemirror_mode": {
    "name": "ipython",
    "version": 3
   },
   "file_extension": ".py",
   "mimetype": "text/x-python",
   "name": "python",
   "nbconvert_exporter": "python",
   "pygments_lexer": "ipython3",
   "version": "3.8.2"
  }
 },
 "nbformat": 4,
 "nbformat_minor": 4
}
