{
 "cells": [
  {
   "cell_type": "markdown",
   "metadata": {},
   "source": [
    "# Ficha 01 de Exercícios de Python\n",
    "\n",
    "A ficha deve ser resolvida e [submetida](https://secure.grupolusofona.pt/ulht/moodle/mod/assign/view.php?id=389735) antes da sua aula prática da semana de 19.4 a 23.4.\n",
    "\n",
    "Trabalhando com Jupyter Notebook: \n",
    "1. Descarregue o [Python](https://www.python.org/downloads/) e instale o Python versão 3 \n",
    "2. Abra uma janela de comando (cmd) e execute o comando para instalar o Jupyter: `python -m pip install jupyter` \n",
    "3. escolha uma pasta onde queira trabalhar, e grave nessa pasta este ficheiro PW_Exercicios_Python_01.ipynb\n",
    "4. na linha de comando, vá até a essa pasta e execute o comando: `jupyter notebook`\n",
    "5. O browser será aberto automáticamente, aparecendo informação da pasta e a ficha de exercícios, que clicando será aberta\n",
    "6. Edite as respostas diretamente nas células vazias. Para executar a célula, prima `Shift + Enter`\n",
    "\n",
    "Se tiver dúvidas, consulte os [slides da aula](https://secure.grupolusofona.pt/ulht/moodle/pluginfile.php/800079/course/section/398731/PW_Python_01.pptx) que têm toda a matéria necessária para a resolução desta ficha."
   ]
  },
  {
   "cell_type": "markdown",
   "metadata": {},
   "source": [
    "# 1. Métodos das Strings\n",
    "\n",
    "Em Python, cada tipo de variável é uma classe tem um conjunto de métodos (funções) disponiveis. Pode listar os métodos existentes do tipo string, através da instrução `dir(str)`. A função `help()`  mostra, para uma determinado tipo, a descrição de todos os métodos disponíveis. Execute help(str) para ver a descrição de todos os métodos. Alternativamente, para um método específico, pode inquirir sobre o seu funcionamento, por exemplo, help(str.capitalise). "
   ]
  },
  {
   "cell_type": "markdown",
   "metadata": {},
   "source": [
    "Para os métodos em baixo indicados, veja a descrição com a função help e escreva um exemplo simples de utilização"
   ]
  },
  {
   "cell_type": "code",
   "execution_count": null,
   "metadata": {},
   "outputs": [],
   "source": [
    "help(str.title)"
   ]
  },
  {
   "cell_type": "code",
   "execution_count": 44,
   "metadata": {},
   "outputs": [
    {
     "name": "stdout",
     "output_type": "stream",
     "text": [
      "Exercícios Introdutorios Ao Python\n"
     ]
    }
   ],
   "source": [
    "# title\n",
    "s = \"exercícios introdutorios ao python\"\n",
    "titulo = s.title()\n",
    "print(titulo)"
   ]
  },
  {
   "cell_type": "code",
   "execution_count": 3,
   "metadata": {},
   "outputs": [
    {
     "name": "stdout",
     "output_type": "stream",
     "text": [
      "Exercícios introdutorios ao python\n"
     ]
    }
   ],
   "source": [
    "#capitalize\n",
    "s = \"exercícios introdutorios ao python\"\n",
    "titulo = s.capitalize()\n",
    "print(titulo)"
   ]
  },
  {
   "cell_type": "code",
   "execution_count": 20,
   "metadata": {
    "scrolled": false
   },
   "outputs": [
    {
     "name": "stdout",
     "output_type": "stream",
     "text": [
      "['exercícios', 'introdutorios', 'ao', 'python']\n"
     ]
    }
   ],
   "source": [
    "#split\n",
    "s = \"exercícios introdutorios ao python\"\n",
    "lista = s.split()\n",
    "print(lista)"
   ]
  },
  {
   "cell_type": "code",
   "execution_count": 21,
   "metadata": {
    "scrolled": true
   },
   "outputs": [
    {
     "name": "stdout",
     "output_type": "stream",
     "text": [
      "exercícios introdutorios ao python\n"
     ]
    }
   ],
   "source": [
    "#join\n",
    "s = \"exercícios introdutorios ao python\"\n",
    "frase_original = ' '.join(s.split())\n",
    "print(frase_original)"
   ]
  },
  {
   "cell_type": "code",
   "execution_count": 22,
   "metadata": {},
   "outputs": [
    {
     "name": "stdout",
     "output_type": "stream",
     "text": [
      "brcdbr\n"
     ]
    }
   ],
   "source": [
    "#replace\n",
    "palavra = \"abracadabra\"\n",
    "palavra_nova = palavra.replace('a','')\n",
    "print(palavra_nova)"
   ]
  },
  {
   "cell_type": "code",
   "execution_count": 23,
   "metadata": {},
   "outputs": [
    {
     "name": "stdout",
     "output_type": "stream",
     "text": [
      "6\n"
     ]
    }
   ],
   "source": [
    "#count\n",
    "s = \"exercícios introdutorios ao python\"\n",
    "num = s.count('o')\n",
    "print(num)"
   ]
  },
  {
   "cell_type": "code",
   "execution_count": 24,
   "metadata": {},
   "outputs": [
    {
     "name": "stdout",
     "output_type": "stream",
     "text": [
      "8\n"
     ]
    }
   ],
   "source": [
    "#find\n",
    "s = \"exercícios introdutorios ao python\"\n",
    "pos = s.find('o')\n",
    "print(pos)"
   ]
  },
  {
   "cell_type": "code",
   "execution_count": 25,
   "metadata": {},
   "outputs": [
    {
     "name": "stdout",
     "output_type": "stream",
     "text": [
      "2\n"
     ]
    }
   ],
   "source": [
    "#index \n",
    "s = \"exercícios introdutorios ao python\"\n",
    "pos = s.split().index('ao')\n",
    "print(pos)"
   ]
  },
  {
   "cell_type": "code",
   "execution_count": 26,
   "metadata": {},
   "outputs": [
    {
     "name": "stdout",
     "output_type": "stream",
     "text": [
      "True\n"
     ]
    }
   ],
   "source": [
    "#isalnum\n",
    "s = \"a2\"\n",
    "bool_alpha_num = s.isalnum()\n",
    "print(bool_alpha_num)"
   ]
  },
  {
   "cell_type": "code",
   "execution_count": 27,
   "metadata": {},
   "outputs": [
    {
     "name": "stdout",
     "output_type": "stream",
     "text": [
      "True\n"
     ]
    }
   ],
   "source": [
    "#isalpha\n",
    "s = \"a\"\n",
    "bool_alpha = s.isalnum()\n",
    "print(bool_alpha)"
   ]
  },
  {
   "cell_type": "code",
   "execution_count": 28,
   "metadata": {},
   "outputs": [
    {
     "name": "stdout",
     "output_type": "stream",
     "text": [
      "True\n"
     ]
    }
   ],
   "source": [
    "#isdigit\n",
    "s = \"2\"\n",
    "bool_digit = s.isalnum()\n",
    "print(bool_digit)"
   ]
  },
  {
   "cell_type": "code",
   "execution_count": 29,
   "metadata": {},
   "outputs": [
    {
     "name": "stdout",
     "output_type": "stream",
     "text": [
      "34\n"
     ]
    }
   ],
   "source": [
    "# função len()\n",
    "s = \"exercícios introdutorios ao python\"\n",
    "size = len(s)\n",
    "print(size)"
   ]
  },
  {
   "cell_type": "markdown",
   "metadata": {},
   "source": [
    "# 2. Onomatopeia\n",
    "\n",
    "Defina, usando operadores sobre strings de concatenação `+` e repetição `*`, uma string com a seguinte onomatopeia: \n",
    "\n",
    "```\n",
    "buuuuuuummmmm\n",
    "```"
   ]
  },
  {
   "cell_type": "code",
   "execution_count": 73,
   "metadata": {
    "scrolled": true
   },
   "outputs": [
    {
     "name": "stdout",
     "output_type": "stream",
     "text": [
      "buuuuuuummmmm\n"
     ]
    }
   ],
   "source": [
    "print('b' + 'u' * 7 + 'm' * 5)"
   ]
  },
  {
   "cell_type": "markdown",
   "metadata": {},
   "source": [
    "# 3. Constrói email de nome\n",
    "\n",
    "Escreva um programa que pede ao utilizador para inserir um nome completo, com vários apelidos,  e construa um email. Exemplo:\n",
    "\n",
    "```\n",
    "Insira um nome completo: Manuel Sousa Silva\n",
    "Email: manuel.sousa.silva@ulusofona.pt\n",
    "```\n",
    "\n",
    "Para tal recorra aos métodos das strings tais como split ou replace, lower e concatenação."
   ]
  },
  {
   "cell_type": "code",
   "execution_count": 72,
   "metadata": {
    "scrolled": true
   },
   "outputs": [
    {
     "name": "stdout",
     "output_type": "stream",
     "text": [
      "Insira um nome completo: Manuel Sousa Silva\n",
      "Email: manuel.sousa.silva@ulusofona.pt\n"
     ]
    }
   ],
   "source": [
    "print('Email: ' + '.'.join(x.lower() for x in input('Insira um nome completo: ').split()) + '@ulusofona.pt')"
   ]
  },
  {
   "cell_type": "markdown",
   "metadata": {},
   "source": [
    "# 4. Pede código de 4 digitos insistentemente até conseguir\n",
    "\n",
    "Escreva um programa que pede ao utilizador para inserir um código numérico de 4 dígitos. Enquanto não o fizer, volte a pedir:\n",
    "\n",
    "```\n",
    "Insira um codigo numerico de 4 digitos: 12345\n",
    "Insira um codigo numerico de 4 digitos: 1a2c\n",
    "Insira um codigo numerico de 4 digitos: 1234\n",
    "Obrigado\n",
    "```\n",
    "\n",
    "Para tal recorra por exemplo ao método das strings isdigit e à função len."
   ]
  },
  {
   "cell_type": "code",
   "execution_count": 101,
   "metadata": {
    "scrolled": false
   },
   "outputs": [
    {
     "name": "stdout",
     "output_type": "stream",
     "text": [
      "Insira um codigo numerico de 4 digitos: 12345\n",
      "Insira um codigo numerico de 4 digitos: 1a2c\n",
      "Insira um codigo numerico de 4 digitos: 123\n",
      "Insira um codigo numerico de 4 digitos: 1234\n",
      "Obrigado\n"
     ]
    }
   ],
   "source": [
    "while (code := input('Insira um codigo numerico de 4 digitos: ')) and len(code) != 4 or not code.isdigit():\n",
    "    pass\n",
    "print('Obrigado')"
   ]
  },
  {
   "cell_type": "markdown",
   "metadata": {},
   "source": [
    "# 5. pergunte uma adivinha \n",
    "* Pergunte uma adivinha: \"Qual é o animal que anda com uma pata?\"\n",
    "* enquanto não adivinhar, volte a perguntar.\n",
    "* se acertar dá os parabéns e termina.\n",
    "* se escrever \"desisto\" o programa termina e imprime uma mensagem, dizendo a resposta (é o 🦆). Use outros emijis se quiser http://getemoji.com/, fazendo copy-paste diretamente.\n",
    "\n",
    "Nota: dentro de \" \" podemos escrever ' '."
   ]
  },
  {
   "cell_type": "code",
   "execution_count": 129,
   "metadata": {},
   "outputs": [
    {
     "name": "stdout",
     "output_type": "stream",
     "text": [
      "Qual é o animal que anda com uma pata? avestruz\n",
      "Qual é o animal que anda com uma pata? desisto\n",
      "Era um 🦆\n"
     ]
    }
   ],
   "source": [
    "while (answer := input('Qual é o animal que anda com uma pata? ')) not in ['pato','desisto']:\n",
    "    pass\n",
    "print('Parabéns é isso miesmo' if answer == 'pato' else 'Era um 🦆')"
   ]
  },
  {
   "cell_type": "markdown",
   "metadata": {},
   "source": [
    "# 6. Tabuada\n",
    "\n",
    "Peça ao utilizador um inteiro entre 1 e 10. Imprima a tabuada desse número devidamente alinhada.\n",
    "\n",
    "Exemplo de utilização:\n",
    "\n",
    "```\n",
    "Insira um inteiro entre 1 e 10: 11\n",
    "Insira um inteiro entre 1 e 10: ola\n",
    "Insira um inteiro entre 1 e 10: 2\n",
    "2 x  1 =   2\n",
    "2 x  2 =   4\n",
    "2 x  3 =   6\n",
    "2 x  4 =   8\n",
    "2 x  5 =  10\n",
    "2 x  6 =  12\n",
    "2 x  7 =  14\n",
    "2 x  8 =  16\n",
    "2 x  9 =  18\n",
    "2 x 10 =  20\n",
    "```"
   ]
  },
  {
   "cell_type": "code",
   "execution_count": 136,
   "metadata": {},
   "outputs": [
    {
     "name": "stdout",
     "output_type": "stream",
     "text": [
      "Insira um inteiro entre 1 e 10: 11\n",
      "Insira um inteiro entre 1 e 10: ola\n",
      "Insira um inteiro entre 1 e 10: 2\n",
      "2 x  1 =   2\n",
      "2 x  2 =   4\n",
      "2 x  3 =   6\n",
      "2 x  4 =   8\n",
      "2 x  5 =  10\n",
      "2 x  6 =  12\n",
      "2 x  7 =  14\n",
      "2 x  8 =  16\n",
      "2 x  9 =  18\n",
      "2 x 10 =  20\n"
     ]
    }
   ],
   "source": [
    "while (num := input('Insira um inteiro entre 1 e 10: ')) and not num.isdigit() or int(num) not in range(1,10 + 1):\n",
    "    pass\n",
    "print('\\n'.join(f'{num} x {i:2} = {int(num) * i:3}' for i in range(1, 10 + 1)))"
   ]
  },
  {
   "cell_type": "markdown",
   "metadata": {},
   "source": [
    "# 7. Multibanco\n",
    "\n",
    "Elabore um programa em Python que simula um multibanco:\n",
    "* O programa tem um código de acesso 1234, armazenado numa variável.\n",
    "* O utilizador tem 3 tentativas para acertar.\n",
    "* Caso não acerte, deve dizer “código não aceite”.\n",
    "* Caso acerte numa das tentativas, deve dizer “código aceite” e o programa deverá terminar.\n",
    "* Caso esgote as 3 tentativas, deve dizer “número de tentativas expiradas”.\n",
    "\n",
    "Utilize um ciclo for empregando break else e continue se conseguir."
   ]
  },
  {
   "cell_type": "code",
   "execution_count": 198,
   "metadata": {},
   "outputs": [
    {
     "name": "stdout",
     "output_type": "stream",
     "text": [
      "Insira o código de acesso: 3216\n",
      "código não aceite\n",
      "Insira o código de acesso: 5236\n",
      "código não aceite\n",
      "Insira o código de acesso: 1234\n",
      "código aceite\n"
     ]
    }
   ],
   "source": [
    "for i in range(0, 3):\n",
    "    if ((code_input := input('Insira o código de acesso: ')) != (access_code := '1234')):\n",
    "        print('código não aceite')\n",
    "        continue\n",
    "    print('código aceite')\n",
    "    break\n",
    "else:\n",
    "    print('número de tentativas expiradas')"
   ]
  },
  {
   "cell_type": "markdown",
   "metadata": {},
   "source": [
    "# 8. Notas\n",
    "\n",
    "Escreva um programa que pede ao utilizador para inserir notas de testes, entre 0 e 20:\n",
    "* A quantidade de números é desconhecida à partida. \n",
    "* A leitura termina quando for introduzido o valor -1. \n",
    "* Se a nota inserida for inválida (fora do intervalo, ou não seja numérica), imprima um aviso. Recorra a try / except para se proteger de valores não numéricos.\n",
    "* Utilize onde possível as instruções break e continue. \n",
    "\n",
    "Imprima no ecrã:\n",
    "- A quantidade de notas válidas inseridas\n",
    "- A média das notas inseridas\n",
    "- A melhor nota\n",
    "\n",
    "\n",
    "Exemplo de utilização:\n",
    "```\n",
    "Insira uma nota entre 0 e 20 (-1 para terminar): 12\n",
    "Insira uma nota entre 0 e 20 (-1 para terminar): 16\n",
    "Insira uma nota entre 0 e 20 (-1 para terminar): ola\n",
    "Nota inválida. Não será tomada em consideração\n",
    "Insira uma nota entre 0 e 20 (-1 para terminar): 28\n",
    "Nota inválida. Não será tomada em consideração\n",
    "Insira uma nota entre 0 e 20 (-1 para terminar): 18\n",
    "Insira uma nota entre 0 e 20 (-1 para terminar): 15\n",
    "Insira uma nota entre 0 e 20 (-1 para terminar): -1\n",
    "\n",
    "Quantidade: 4\n",
    "Media: 15.2\n",
    "Maximo: 18\n",
    "``` "
   ]
  },
  {
   "cell_type": "code",
   "execution_count": 252,
   "metadata": {},
   "outputs": [
    {
     "name": "stdout",
     "output_type": "stream",
     "text": [
      "Insira uma nota entre 0 e 20 (-1 para terminar): 12\n",
      "Insira uma nota entre 0 e 20 (-1 para terminar): 16\n",
      "Insira uma nota entre 0 e 20 (-1 para terminar): ola\n",
      "Nota inválida. Não será tomada em consideração\n",
      "Insira uma nota entre 0 e 20 (-1 para terminar): 28\n",
      "Nota inválida. Não será tomada em consideração\n",
      "Insira uma nota entre 0 e 20 (-1 para terminar): 18\n",
      "Insira uma nota entre 0 e 20 (-1 para terminar): 15\n",
      "Insira uma nota entre 0 e 20 (-1 para terminar): -1\n",
      "Quantidade: 4\n",
      "Media: 15.2\n",
      "Maximo: 18\n"
     ]
    }
   ],
   "source": [
    "quantity, sum, maximum, grade = 0, 0, 0, 0\n",
    "while grade != -1:\n",
    "    try:\n",
    "        if (grade := int(input('Insira uma nota entre 0 e 20 (-1 para terminar): '))) not in range(-1, 20 + 1):\n",
    "            print('Nota inválida. Não será tomada em consideração')\n",
    "        elif grade != -1:\n",
    "            quantity += 1\n",
    "            sum += grade\n",
    "            maximum = max(grade, maximum)\n",
    "    except ValueError:\n",
    "        print('Nota inválida. Não será tomada em consideração')\n",
    "\n",
    "print(f'Quantidade: {quantity}')\n",
    "print(f'Media: {sum / quantity:.1f}')\n",
    "print(f'Maximo: {maximum}')"
   ]
  },
  {
   "cell_type": "markdown",
   "metadata": {},
   "source": [
    "# 9. Frase\n",
    "\n",
    "Peça ao utilizador para inserir uma frase e indique quantas vogais esta tem (tanto maiúsculas como minúsculas). \n",
    "\n",
    "Sugestões: \n",
    "* Lembre-se que pode iterar pelos carateres de uma string com: `for letra in frase:`. \n",
    "* Utilizar o operador `in`.\n",
    "* Numa string, pode imprimir aspas se definir a frase com plicas: `print(f'A frase \"{frase}\" tem {soma} carateres')`\n",
    "\n",
    "Exemplo de funcionamento:\n",
    "\n",
    "```\n",
    "Insira uma frase: Rega as tuas plantas. Ama as tuas rosas\n",
    "A frase \"Rega as tuas plantas. Ama as tuas rosas\" tem 14 vogais\n",
    "```"
   ]
  },
  {
   "cell_type": "code",
   "execution_count": 163,
   "metadata": {
    "scrolled": true
   },
   "outputs": [
    {
     "name": "stdout",
     "output_type": "stream",
     "text": [
      "Insira uma frase: Rega as tuas plantas. Ama as tuas rosas\n",
      "A frase Rega as tuas plantas. Ama as tuas rosas tem 14 vogais\n"
     ]
    }
   ],
   "source": [
    "print(f'A frase {(frase := input(\"Insira uma frase: \"))} tem {len([letter for letter in frase if letter.lower() in [\"a\", \"e\", \"i\", \"o\", \"u\"]])} vogais')"
   ]
  },
  {
   "cell_type": "markdown",
   "metadata": {},
   "source": [
    "# 10. Billboard"
   ]
  },
  {
   "cell_type": "markdown",
   "metadata": {},
   "source": [
    "Crie um programa que recebe uma string `frase` e um dígito `n`. \n",
    "\n",
    "\n",
    "Deverá aplicar uma deslocação de n caracteres para a direita (n>0) ou para a esquerda (n<0) e em seguida apresentar o resultado na consola. Uma deslocação de n caracteres consiste em mover os caracteres todos de uma string para as a posições contíguas e em que os últimos caracteres da string passam para o início.\n",
    "\n",
    "Sugestões:\n",
    "* utilize slices e concatenação de strings\n",
    "* tome atenção ao caso de o número ser maior que o comprimento da string. Nesse caso deverá fazer usar como deslocação n % len(frase), pois a rotação de len(frase) carateres é a própria frase.\n",
    "* Comece por implementar o deslocamento de um caracter para a direita. Poderá depois implementar o deslocamento de n caracteres para a direira repetindo n vezes a deslocação de 1 caracter. Repita o processo para os deslocamentos para a esquerda.\n",
    "\n",
    "\n",
    "Exemplo:\n",
    "\n",
    "```\n",
    "Introduza uma sequencia de carateres: abcdefghi\n",
    "Introduza um inteiro: 3\n",
    "Resultado de deslocação de 3 carateres: ghiabcdef\n",
    "```\n",
    "\n",
    "Outro exemplo:\n",
    "\n",
    "```\n",
    "Introduza uma sequencia de carateres: abcdefghi\n",
    "Introduza um inteiro: -2\n",
    "Resultado de deslocação de 3 carateres: defghiabc\n",
    "```\n"
   ]
  },
  {
   "cell_type": "code",
   "execution_count": 187,
   "metadata": {},
   "outputs": [
    {
     "name": "stdout",
     "output_type": "stream",
     "text": [
      "Introduza uma sequencia de carateres: abcdefghi\n",
      "Introduza um inteiro: -2\n",
      "Resultado de deslocação de 3 carateres: defghiabc\n"
     ]
    }
   ],
   "source": [
    "print((frase := input('Introduza uma sequencia de carateres: ')) and (n := int(input('Introduza um inteiro: '))) and f'Resultado de deslocação de {str(deslocacao := (-n+1 if n < 0 else -n) % len(frase) if n < 0 else n)} carateres: {str(frase[deslocacao:] + frase[:deslocacao])}')"
   ]
  }
 ],
 "metadata": {
  "kernelspec": {
   "display_name": "Python 3",
   "language": "python",
   "name": "python3"
  },
  "language_info": {
   "codemirror_mode": {
    "name": "ipython",
    "version": 3
   },
   "file_extension": ".py",
   "mimetype": "text/x-python",
   "name": "python",
   "nbconvert_exporter": "python",
   "pygments_lexer": "ipython3",
   "version": "3.9.2"
  }
 },
 "nbformat": 4,
 "nbformat_minor": 4
}
